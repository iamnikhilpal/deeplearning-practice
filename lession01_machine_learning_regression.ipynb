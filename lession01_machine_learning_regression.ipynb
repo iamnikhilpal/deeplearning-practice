{
  "nbformat": 4,
  "nbformat_minor": 0,
  "metadata": {
    "colab": {
      "name": "Untitled0.ipynb",
      "provenance": [],
      "authorship_tag": "ABX9TyNLyqM8JDGNwD/1R1VkJqNv"
    },
    "kernelspec": {
      "name": "python3",
      "display_name": "Python 3"
    },
    "language_info": {
      "name": "python"
    }
  },
  "cells": [
    {
      "cell_type": "code",
      "execution_count": null,
      "metadata": {
        "id": "58qmGfvT27G7"
      },
      "outputs": [],
      "source": [
        ""
      ]
    }
  ]
}