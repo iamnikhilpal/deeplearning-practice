{
  "nbformat": 4,
  "nbformat_minor": 0,
  "metadata": {
    "colab": {
      "name": "Text-processing.ipynb",
      "provenance": [],
      "authorship_tag": "ABX9TyO0MOH5d0icxyNiXy22M3vN",
      "include_colab_link": true
    },
    "kernelspec": {
      "name": "python3",
      "display_name": "Python 3"
    },
    "language_info": {
      "name": "python"
    }
  },
  "cells": [
    {
      "cell_type": "markdown",
      "metadata": {
        "id": "view-in-github",
        "colab_type": "text"
      },
      "source": [
        "<a href=\"https://colab.research.google.com/github/iamnikhilpal/deeplearning-practice/blob/main/Text_processing.ipynb\" target=\"_parent\"><img src=\"https://colab.research.google.com/assets/colab-badge.svg\" alt=\"Open In Colab\"/></a>"
      ]
    },
    {
      "cell_type": "code",
      "metadata": {
        "colab": {
          "base_uri": "https://localhost:8080/"
        },
        "id": "umCjzWrPmL7K",
        "outputId": "0e465f02-8604-4557-a0e4-a32eff027c15"
      },
      "source": [
        "# Cleaning - sample\n",
        "import requests\n",
        "\n",
        "r = requests.get(\"https://news.ycombinator.com\")\n",
        "print(r.text)"
      ],
      "execution_count": 1,
      "outputs": [
        {
          "output_type": "stream",
          "text": [
            "<html lang=\"en\" op=\"news\"><head><meta name=\"referrer\" content=\"origin\"><meta name=\"viewport\" content=\"width=device-width, initial-scale=1.0\"><link rel=\"stylesheet\" type=\"text/css\" href=\"news.css?JDaAcD2Dj4yhPbP6Aq6K\">\n",
            "        <link rel=\"shortcut icon\" href=\"favicon.ico\">\n",
            "          <link rel=\"alternate\" type=\"application/rss+xml\" title=\"RSS\" href=\"rss\">\n",
            "        <title>Hacker News</title></head><body><center><table id=\"hnmain\" border=\"0\" cellpadding=\"0\" cellspacing=\"0\" width=\"85%\" bgcolor=\"#f6f6ef\">\n",
            "        <tr><td bgcolor=\"#ff6600\"><table border=\"0\" cellpadding=\"0\" cellspacing=\"0\" width=\"100%\" style=\"padding:2px\"><tr><td style=\"width:18px;padding-right:4px\"><a href=\"https://news.ycombinator.com\"><img src=\"y18.gif\" width=\"18\" height=\"18\" style=\"border:1px white solid;\"></a></td>\n",
            "                  <td style=\"line-height:12pt; height:10px;\"><span class=\"pagetop\"><b class=\"hnname\"><a href=\"news\">Hacker News</a></b>\n",
            "              <a href=\"newest\">new</a> | <a href=\"front\">past</a> | <a href=\"newcomments\">comments</a> | <a href=\"ask\">ask</a> | <a href=\"show\">show</a> | <a href=\"jobs\">jobs</a> | <a href=\"submit\">submit</a>            </span></td><td style=\"text-align:right;padding-right:4px;\"><span class=\"pagetop\">\n",
            "                              <a href=\"login?goto=news\">login</a>\n",
            "                          </span></td>\n",
            "              </tr></table></td></tr>\n",
            "<tr id=\"pagespace\" title=\"\" style=\"height:10px\"></tr><tr><td><table border=\"0\" cellpadding=\"0\" cellspacing=\"0\" class=\"itemlist\">\n",
            "              <tr class='athing' id='27533684'>\n",
            "      <td align=\"right\" valign=\"top\" class=\"title\"><span class=\"rank\">1.</span></td>      <td valign=\"top\" class=\"votelinks\"><center><a id='up_27533684' href='vote?id=27533684&amp;how=up&amp;goto=news'><div class='votearrow' title='upvote'></div></a></center></td><td class=\"title\"><a href=\"https://programming.guide/worlds-most-copied-so-snippet.html\" class=\"storylink\">The most copied StackOverflow snippet of all time is flawed (2019)</a><span class=\"sitebit comhead\"> (<a href=\"from?site=programming.guide\"><span class=\"sitestr\">programming.guide</span></a>)</span></td></tr><tr><td colspan=\"2\"></td><td class=\"subtext\">\n",
            "        <span class=\"score\" id=\"score_27533684\">282 points</span> by <a href=\"user?id=vinnyglennon\" class=\"hnuser\">vinnyglennon</a> <span class=\"age\"><a href=\"item?id=27533684\">4 hours ago</a></span> <span id=\"unv_27533684\"></span> | <a href=\"hide?id=27533684&amp;goto=news\">hide</a> | <a href=\"item?id=27533684\">133&nbsp;comments</a>              </td></tr>\n",
            "      <tr class=\"spacer\" style=\"height:5px\"></tr>\n",
            "                <tr class='athing' id='27532068'>\n",
            "      <td align=\"right\" valign=\"top\" class=\"title\"><span class=\"rank\">2.</span></td>      <td valign=\"top\" class=\"votelinks\"><center><a id='up_27532068' href='vote?id=27532068&amp;how=up&amp;goto=news'><div class='votearrow' title='upvote'></div></a></center></td><td class=\"title\"><a href=\"https://wayfinder.nfb.ca/\" class=\"storylink\">Wayfinder – a relaxing 'art game' in the browser</a><span class=\"sitebit comhead\"> (<a href=\"from?site=nfb.ca\"><span class=\"sitestr\">nfb.ca</span></a>)</span></td></tr><tr><td colspan=\"2\"></td><td class=\"subtext\">\n",
            "        <span class=\"score\" id=\"score_27532068\">365 points</span> by <a href=\"user?id=vnglst\" class=\"hnuser\">vnglst</a> <span class=\"age\"><a href=\"item?id=27532068\">6 hours ago</a></span> <span id=\"unv_27532068\"></span> | <a href=\"hide?id=27532068&amp;goto=news\">hide</a> | <a href=\"item?id=27532068\">67&nbsp;comments</a>              </td></tr>\n",
            "      <tr class=\"spacer\" style=\"height:5px\"></tr>\n",
            "                <tr class='athing' id='27529697'>\n",
            "      <td align=\"right\" valign=\"top\" class=\"title\"><span class=\"rank\">3.</span></td>      <td valign=\"top\" class=\"votelinks\"><center><a id='up_27529697' href='vote?id=27529697&amp;how=up&amp;goto=news'><div class='votearrow' title='upvote'></div></a></center></td><td class=\"title\"><a href=\"https://andysalerno.com/posts/weird-emojis/\" class=\"storylink\">Bear plus snowflake equals polar bear</a><span class=\"sitebit comhead\"> (<a href=\"from?site=andysalerno.com\"><span class=\"sitestr\">andysalerno.com</span></a>)</span></td></tr><tr><td colspan=\"2\"></td><td class=\"subtext\">\n",
            "        <span class=\"score\" id=\"score_27529697\">174 points</span> by <a href=\"user?id=soopurman\" class=\"hnuser\">soopurman</a> <span class=\"age\"><a href=\"item?id=27529697\">5 hours ago</a></span> <span id=\"unv_27529697\"></span> | <a href=\"hide?id=27529697&amp;goto=news\">hide</a> | <a href=\"item?id=27529697\">39&nbsp;comments</a>              </td></tr>\n",
            "      <tr class=\"spacer\" style=\"height:5px\"></tr>\n",
            "                <tr class='athing' id='27529768'>\n",
            "      <td align=\"right\" valign=\"top\" class=\"title\"><span class=\"rank\">4.</span></td>      <td valign=\"top\" class=\"votelinks\"><center><a id='up_27529768' href='vote?id=27529768&amp;how=up&amp;goto=news'><div class='votearrow' title='upvote'></div></a></center></td><td class=\"title\"><a href=\"https://eprint.iacr.org/2021/819\" class=\"storylink\">Cryptanalysis of GPRS Encryption Algorithms GEA-1 suggest intentional weakness</a><span class=\"sitebit comhead\"> (<a href=\"from?site=iacr.org\"><span class=\"sitestr\">iacr.org</span></a>)</span></td></tr><tr><td colspan=\"2\"></td><td class=\"subtext\">\n",
            "        <span class=\"score\" id=\"score_27529768\">384 points</span> by <a href=\"user?id=anonymfus\" class=\"hnuser\">anonymfus</a> <span class=\"age\"><a href=\"item?id=27529768\">10 hours ago</a></span> <span id=\"unv_27529768\"></span> | <a href=\"hide?id=27529768&amp;goto=news\">hide</a> | <a href=\"item?id=27529768\">81&nbsp;comments</a>              </td></tr>\n",
            "      <tr class=\"spacer\" style=\"height:5px\"></tr>\n",
            "                <tr class='athing' id='27533755'>\n",
            "      <td align=\"right\" valign=\"top\" class=\"title\"><span class=\"rank\">5.</span></td>      <td valign=\"top\" class=\"votelinks\"><center><a id='up_27533755' href='vote?id=27533755&amp;how=up&amp;goto=news'><div class='votearrow' title='upvote'></div></a></center></td><td class=\"title\"><a href=\"https://www.npr.org/2019/11/04/776163853/microsoft-japan-says-4-day-workweek-boosted-workers-productivity-by-40\" class=\"storylink\">4-day workweek boosted workers' productivity by 40%, Microsoft Japan says</a><span class=\"sitebit comhead\"> (<a href=\"from?site=npr.org\"><span class=\"sitestr\">npr.org</span></a>)</span></td></tr><tr><td colspan=\"2\"></td><td class=\"subtext\">\n",
            "        <span class=\"score\" id=\"score_27533755\">212 points</span> by <a href=\"user?id=evo_9\" class=\"hnuser\">evo_9</a> <span class=\"age\"><a href=\"item?id=27533755\">4 hours ago</a></span> <span id=\"unv_27533755\"></span> | <a href=\"hide?id=27533755&amp;goto=news\">hide</a> | <a href=\"item?id=27533755\">75&nbsp;comments</a>              </td></tr>\n",
            "      <tr class=\"spacer\" style=\"height:5px\"></tr>\n",
            "                <tr class='athing' id='27534884'>\n",
            "      <td align=\"right\" valign=\"top\" class=\"title\"><span class=\"rank\">6.</span></td>      <td valign=\"top\" class=\"votelinks\"><center><a id='up_27534884' href='vote?id=27534884&amp;how=up&amp;goto=news'><div class='votearrow' title='upvote'></div></a></center></td><td class=\"title\"><a href=\"https://stripe.com/terminal\" class=\"storylink\">Stripe Terminal</a><span class=\"sitebit comhead\"> (<a href=\"from?site=stripe.com\"><span class=\"sitestr\">stripe.com</span></a>)</span></td></tr><tr><td colspan=\"2\"></td><td class=\"subtext\">\n",
            "        <span class=\"score\" id=\"score_27534884\">56 points</span> by <a href=\"user?id=dominicwhyte\" class=\"hnuser\">dominicwhyte</a> <span class=\"age\"><a href=\"item?id=27534884\">1 hour ago</a></span> <span id=\"unv_27534884\"></span> | <a href=\"hide?id=27534884&amp;goto=news\">hide</a> | <a href=\"item?id=27534884\">20&nbsp;comments</a>              </td></tr>\n",
            "      <tr class=\"spacer\" style=\"height:5px\"></tr>\n",
            "                <tr class='athing' id='27527559'>\n",
            "      <td align=\"right\" valign=\"top\" class=\"title\"><span class=\"rank\">7.</span></td>      <td valign=\"top\" class=\"votelinks\"><center><a id='up_27527559' href='vote?id=27527559&amp;how=up&amp;goto=news'><div class='votearrow' title='upvote'></div></a></center></td><td class=\"title\"><a href=\"https://www.metzdowd.com/pipermail/cryptography/2021-June/037144.html\" class=\"storylink\">Apple's iCloud+ “VPN”</a><span class=\"sitebit comhead\"> (<a href=\"from?site=metzdowd.com\"><span class=\"sitestr\">metzdowd.com</span></a>)</span></td></tr><tr><td colspan=\"2\"></td><td class=\"subtext\">\n",
            "        <span class=\"score\" id=\"score_27527559\">813 points</span> by <a href=\"user?id=n1000\" class=\"hnuser\">n1000</a> <span class=\"age\"><a href=\"item?id=27527559\">13 hours ago</a></span> <span id=\"unv_27527559\"></span> | <a href=\"hide?id=27527559&amp;goto=news\">hide</a> | <a href=\"item?id=27527559\">344&nbsp;comments</a>              </td></tr>\n",
            "      <tr class=\"spacer\" style=\"height:5px\"></tr>\n",
            "                <tr class='athing' id='27526017'>\n",
            "      <td align=\"right\" valign=\"top\" class=\"title\"><span class=\"rank\">8.</span></td>      <td valign=\"top\" class=\"votelinks\"><center><a id='up_27526017' href='vote?id=27526017&amp;how=up&amp;goto=news'><div class='votearrow' title='upvote'></div></a></center></td><td class=\"title\"><a href=\"https://github.com/bee-san/pyWhat\" class=\"storylink\">PyWhat: Identify Anything</a><span class=\"sitebit comhead\"> (<a href=\"from?site=github.com/bee-san\"><span class=\"sitestr\">github.com/bee-san</span></a>)</span></td></tr><tr><td colspan=\"2\"></td><td class=\"subtext\">\n",
            "        <span class=\"score\" id=\"score_27526017\">207 points</span> by <a href=\"user?id=trueduke\" class=\"hnuser\">trueduke</a> <span class=\"age\"><a href=\"item?id=27526017\">8 hours ago</a></span> <span id=\"unv_27526017\"></span> | <a href=\"hide?id=27526017&amp;goto=news\">hide</a> | <a href=\"item?id=27526017\">28&nbsp;comments</a>              </td></tr>\n",
            "      <tr class=\"spacer\" style=\"height:5px\"></tr>\n",
            "                <tr class='athing' id='27525047'>\n",
            "      <td align=\"right\" valign=\"top\" class=\"title\"><span class=\"rank\">9.</span></td>      <td valign=\"top\" class=\"votelinks\"><center><a id='up_27525047' href='vote?id=27525047&amp;how=up&amp;goto=news'><div class='votearrow' title='upvote'></div></a></center></td><td class=\"title\"><a href=\"https://samenright.com/2021/06/06/a-beginners-guide-to-miles-davis/\" class=\"storylink\">A Beginner’s Guide to Miles Davis</a><span class=\"sitebit comhead\"> (<a href=\"from?site=samenright.com\"><span class=\"sitestr\">samenright.com</span></a>)</span></td></tr><tr><td colspan=\"2\"></td><td class=\"subtext\">\n",
            "        <span class=\"score\" id=\"score_27525047\">89 points</span> by <a href=\"user?id=tintinnabula\" class=\"hnuser\">tintinnabula</a> <span class=\"age\"><a href=\"item?id=27525047\">5 hours ago</a></span> <span id=\"unv_27525047\"></span> | <a href=\"hide?id=27525047&amp;goto=news\">hide</a> | <a href=\"item?id=27525047\">40&nbsp;comments</a>              </td></tr>\n",
            "      <tr class=\"spacer\" style=\"height:5px\"></tr>\n",
            "                <tr class='athing' id='27530365'>\n",
            "      <td align=\"right\" valign=\"top\" class=\"title\"><span class=\"rank\">10.</span></td>      <td valign=\"top\" class=\"votelinks\"><center><a id='up_27530365' href='vote?id=27530365&amp;how=up&amp;goto=news'><div class='votearrow' title='upvote'></div></a></center></td><td class=\"title\"><a href=\"https://www.persuasion.community/p/kids-need-freedom-too\" class=\"storylink\">Kids need freedom, too</a><span class=\"sitebit comhead\"> (<a href=\"from?site=persuasion.community\"><span class=\"sitestr\">persuasion.community</span></a>)</span></td></tr><tr><td colspan=\"2\"></td><td class=\"subtext\">\n",
            "        <span class=\"score\" id=\"score_27530365\">252 points</span> by <a href=\"user?id=jseliger\" class=\"hnuser\">jseliger</a> <span class=\"age\"><a href=\"item?id=27530365\">9 hours ago</a></span> <span id=\"unv_27530365\"></span> | <a href=\"hide?id=27530365&amp;goto=news\">hide</a> | <a href=\"item?id=27530365\">247&nbsp;comments</a>              </td></tr>\n",
            "      <tr class=\"spacer\" style=\"height:5px\"></tr>\n",
            "                <tr class='athing' id='27533988'>\n",
            "      <td align=\"right\" valign=\"top\" class=\"title\"><span class=\"rank\">11.</span></td>      <td valign=\"top\" class=\"votelinks\"><center><a id='up_27533988' href='vote?id=27533988&amp;how=up&amp;goto=news'><div class='votearrow' title='upvote'></div></a></center></td><td class=\"title\"><a href=\"https://neuralshifter.com/posts/boost-self-esteem-stop-procrastination\" class=\"storylink\">How to Boost Self Esteem and Stop Procrastinating</a><span class=\"sitebit comhead\"> (<a href=\"from?site=neuralshifter.com\"><span class=\"sitestr\">neuralshifter.com</span></a>)</span></td></tr><tr><td colspan=\"2\"></td><td class=\"subtext\">\n",
            "        <span class=\"score\" id=\"score_27533988\">47 points</span> by <a href=\"user?id=CommitLock\" class=\"hnuser\">CommitLock</a> <span class=\"age\"><a href=\"item?id=27533988\">3 hours ago</a></span> <span id=\"unv_27533988\"></span> | <a href=\"hide?id=27533988&amp;goto=news\">hide</a> | <a href=\"item?id=27533988\">22&nbsp;comments</a>              </td></tr>\n",
            "      <tr class=\"spacer\" style=\"height:5px\"></tr>\n",
            "                <tr class='athing' id='27531934'>\n",
            "      <td align=\"right\" valign=\"top\" class=\"title\"><span class=\"rank\">12.</span></td>      <td valign=\"top\" class=\"votelinks\"><center><a id='up_27531934' href='vote?id=27531934&amp;how=up&amp;goto=news'><div class='votearrow' title='upvote'></div></a></center></td><td class=\"title\"><a href=\"https://fabianlindfors.se/blog/schema-migrations-in-postgres/\" class=\"storylink\">Zero-downtime schema migrations in Postgres using views</a><span class=\"sitebit comhead\"> (<a href=\"from?site=fabianlindfors.se\"><span class=\"sitestr\">fabianlindfors.se</span></a>)</span></td></tr><tr><td colspan=\"2\"></td><td class=\"subtext\">\n",
            "        <span class=\"score\" id=\"score_27531934\">105 points</span> by <a href=\"user?id=fabianlindfors\" class=\"hnuser\">fabianlindfors</a> <span class=\"age\"><a href=\"item?id=27531934\">7 hours ago</a></span> <span id=\"unv_27531934\"></span> | <a href=\"hide?id=27531934&amp;goto=news\">hide</a> | <a href=\"item?id=27531934\">43&nbsp;comments</a>              </td></tr>\n",
            "      <tr class=\"spacer\" style=\"height:5px\"></tr>\n",
            "                <tr class='athing' id='27513008'>\n",
            "      <td align=\"right\" valign=\"top\" class=\"title\"><span class=\"rank\">13.</span></td>      <td valign=\"top\" class=\"votelinks\"><center><a id='up_27513008' href='vote?id=27513008&amp;how=up&amp;goto=news'><div class='votearrow' title='upvote'></div></a></center></td><td class=\"title\"><a href=\"http://blog.dornea.nu/2021/06/13/note-taking-in-2021/\" class=\"storylink\">Note Taking in 2021</a><span class=\"sitebit comhead\"> (<a href=\"from?site=dornea.nu\"><span class=\"sitestr\">dornea.nu</span></a>)</span></td></tr><tr><td colspan=\"2\"></td><td class=\"subtext\">\n",
            "        <span class=\"score\" id=\"score_27513008\">9 points</span> by <a href=\"user?id=cyneox\" class=\"hnuser\">cyneox</a> <span class=\"age\"><a href=\"item?id=27513008\">1 hour ago</a></span> <span id=\"unv_27513008\"></span> | <a href=\"hide?id=27513008&amp;goto=news\">hide</a> | <a href=\"item?id=27513008\">discuss</a>              </td></tr>\n",
            "      <tr class=\"spacer\" style=\"height:5px\"></tr>\n",
            "                <tr class='athing' id='27534379'>\n",
            "      <td align=\"right\" valign=\"top\" class=\"title\"><span class=\"rank\">14.</span></td>      <td valign=\"top\" class=\"votelinks\"><center><a id='up_27534379' href='vote?id=27534379&amp;how=up&amp;goto=news'><div class='votearrow' title='upvote'></div></a></center></td><td class=\"title\"><a href=\"https://francoisbest.com/posts/2021/hashvatars\" class=\"storylink\">Representing SHA-256 Hashes as Avatars</a><span class=\"sitebit comhead\"> (<a href=\"from?site=francoisbest.com\"><span class=\"sitestr\">francoisbest.com</span></a>)</span></td></tr><tr><td colspan=\"2\"></td><td class=\"subtext\">\n",
            "        <span class=\"score\" id=\"score_27534379\">37 points</span> by <a href=\"user?id=flurly\" class=\"hnuser\">flurly</a> <span class=\"age\"><a href=\"item?id=27534379\">2 hours ago</a></span> <span id=\"unv_27534379\"></span> | <a href=\"hide?id=27534379&amp;goto=news\">hide</a> | <a href=\"item?id=27534379\">11&nbsp;comments</a>              </td></tr>\n",
            "      <tr class=\"spacer\" style=\"height:5px\"></tr>\n",
            "                <tr class='athing' id='27533417'>\n",
            "      <td align=\"right\" valign=\"top\" class=\"title\"><span class=\"rank\">15.</span></td>      <td></td><td class=\"title\"><a href=\"https://www.workatastartup.com/jobs/29595\" class=\"storylink\" rel=\"nofollow\">Cortex (YC W20) Is Hiring Founding Engineers</a><span class=\"sitebit comhead\"> (<a href=\"from?site=workatastartup.com\"><span class=\"sitestr\">workatastartup.com</span></a>)</span></td></tr><tr><td colspan=\"2\"></td><td class=\"subtext\">\n",
            "        <span class=\"age\"><a href=\"item?id=27533417\">4 hours ago</a></span> | <a href=\"hide?id=27533417&amp;goto=news\">hide</a>      </td></tr>\n",
            "      <tr class=\"spacer\" style=\"height:5px\"></tr>\n",
            "                <tr class='athing' id='27524106'>\n",
            "      <td align=\"right\" valign=\"top\" class=\"title\"><span class=\"rank\">16.</span></td>      <td valign=\"top\" class=\"votelinks\"><center><a id='up_27524106' href='vote?id=27524106&amp;how=up&amp;goto=news'><div class='votearrow' title='upvote'></div></a></center></td><td class=\"title\"><a href=\"http://www.daemonology.net/blog/2021-06-16-My-EC2-wishlist.html\" class=\"storylink\">My EC2 Wishlist</a><span class=\"sitebit comhead\"> (<a href=\"from?site=daemonology.net\"><span class=\"sitestr\">daemonology.net</span></a>)</span></td></tr><tr><td colspan=\"2\"></td><td class=\"subtext\">\n",
            "        <span class=\"score\" id=\"score_27524106\">65 points</span> by <a href=\"user?id=cperciva\" class=\"hnuser\">cperciva</a> <span class=\"age\"><a href=\"item?id=27524106\">5 hours ago</a></span> <span id=\"unv_27524106\"></span> | <a href=\"hide?id=27524106&amp;goto=news\">hide</a> | <a href=\"item?id=27524106\">25&nbsp;comments</a>              </td></tr>\n",
            "      <tr class=\"spacer\" style=\"height:5px\"></tr>\n",
            "                <tr class='athing' id='27512224'>\n",
            "      <td align=\"right\" valign=\"top\" class=\"title\"><span class=\"rank\">17.</span></td>      <td valign=\"top\" class=\"votelinks\"><center><a id='up_27512224' href='vote?id=27512224&amp;how=up&amp;goto=news'><div class='votearrow' title='upvote'></div></a></center></td><td class=\"title\"><a href=\"https://github.com/jamii/dida\" class=\"storylink\">Differential Dataflow for Mere Mortals</a><span class=\"sitebit comhead\"> (<a href=\"from?site=github.com/jamii\"><span class=\"sitestr\">github.com/jamii</span></a>)</span></td></tr><tr><td colspan=\"2\"></td><td class=\"subtext\">\n",
            "        <span class=\"score\" id=\"score_27512224\">21 points</span> by <a href=\"user?id=luu\" class=\"hnuser\">luu</a> <span class=\"age\"><a href=\"item?id=27512224\">2 hours ago</a></span> <span id=\"unv_27512224\"></span> | <a href=\"hide?id=27512224&amp;goto=news\">hide</a> | <a href=\"item?id=27512224\">1&nbsp;comment</a>              </td></tr>\n",
            "      <tr class=\"spacer\" style=\"height:5px\"></tr>\n",
            "                <tr class='athing' id='27526020'>\n",
            "      <td align=\"right\" valign=\"top\" class=\"title\"><span class=\"rank\">18.</span></td>      <td valign=\"top\" class=\"votelinks\"><center><a id='up_27526020' href='vote?id=27526020&amp;how=up&amp;goto=news'><div class='votearrow' title='upvote'></div></a></center></td><td class=\"title\"><a href=\"https://ygoliya.medium.com/manufacturing-next-generation-electronics-like-they-are-t-shirts-526e8551748b\" class=\"storylink\">Manufacturing next-generation electronics like they are T-Shirts</a><span class=\"sitebit comhead\"> (<a href=\"from?site=ygoliya.medium.com\"><span class=\"sitestr\">ygoliya.medium.com</span></a>)</span></td></tr><tr><td colspan=\"2\"></td><td class=\"subtext\">\n",
            "        <span class=\"score\" id=\"score_27526020\">31 points</span> by <a href=\"user?id=SG16\" class=\"hnuser\">SG16</a> <span class=\"age\"><a href=\"item?id=27526020\">4 hours ago</a></span> <span id=\"unv_27526020\"></span> | <a href=\"hide?id=27526020&amp;goto=news\">hide</a> | <a href=\"item?id=27526020\">7&nbsp;comments</a>              </td></tr>\n",
            "      <tr class=\"spacer\" style=\"height:5px\"></tr>\n",
            "                <tr class='athing' id='27529049'>\n",
            "      <td align=\"right\" valign=\"top\" class=\"title\"><span class=\"rank\">19.</span></td>      <td valign=\"top\" class=\"votelinks\"><center><a id='up_27529049' href='vote?id=27529049&amp;how=up&amp;goto=news'><div class='votearrow' title='upvote'></div></a></center></td><td class=\"title\"><a href=\"https://krebsonsecurity.com/2021/06/how-does-one-get-hired-by-a-top-cybercrime-gang/\" class=\"storylink\">How does one get hired by a top cybercrime gang?</a><span class=\"sitebit comhead\"> (<a href=\"from?site=krebsonsecurity.com\"><span class=\"sitestr\">krebsonsecurity.com</span></a>)</span></td></tr><tr><td colspan=\"2\"></td><td class=\"subtext\">\n",
            "        <span class=\"score\" id=\"score_27529049\">187 points</span> by <a href=\"user?id=wyldfire\" class=\"hnuser\">wyldfire</a> <span class=\"age\"><a href=\"item?id=27529049\">10 hours ago</a></span> <span id=\"unv_27529049\"></span> | <a href=\"hide?id=27529049&amp;goto=news\">hide</a> | <a href=\"item?id=27529049\">108&nbsp;comments</a>              </td></tr>\n",
            "      <tr class=\"spacer\" style=\"height:5px\"></tr>\n",
            "                <tr class='athing' id='27517895'>\n",
            "      <td align=\"right\" valign=\"top\" class=\"title\"><span class=\"rank\">20.</span></td>      <td valign=\"top\" class=\"votelinks\"><center><a id='up_27517895' href='vote?id=27517895&amp;how=up&amp;goto=news'><div class='votearrow' title='upvote'></div></a></center></td><td class=\"title\"><a href=\"https://themillions.com/2011/09/the-german-solution-saving-books-by-keeping-them-expensive.html\" class=\"storylink\">Saving books by keeping them expensive (2011)</a><span class=\"sitebit comhead\"> (<a href=\"from?site=themillions.com\"><span class=\"sitestr\">themillions.com</span></a>)</span></td></tr><tr><td colspan=\"2\"></td><td class=\"subtext\">\n",
            "        <span class=\"score\" id=\"score_27517895\">19 points</span> by <a href=\"user?id=TheTrotters\" class=\"hnuser\">TheTrotters</a> <span class=\"age\"><a href=\"item?id=27517895\">3 hours ago</a></span> <span id=\"unv_27517895\"></span> | <a href=\"hide?id=27517895&amp;goto=news\">hide</a> | <a href=\"item?id=27517895\">9&nbsp;comments</a>              </td></tr>\n",
            "      <tr class=\"spacer\" style=\"height:5px\"></tr>\n",
            "                <tr class='athing' id='27528202'>\n",
            "      <td align=\"right\" valign=\"top\" class=\"title\"><span class=\"rank\">21.</span></td>      <td valign=\"top\" class=\"votelinks\"><center><a id='up_27528202' href='vote?id=27528202&amp;how=up&amp;goto=news'><div class='votearrow' title='upvote'></div></a></center></td><td class=\"title\"><a href=\"item?id=27528202\" class=\"storylink\">Launch HN: Svix (YC W21) – Webhooks as a Service</a></td></tr><tr><td colspan=\"2\"></td><td class=\"subtext\">\n",
            "        <span class=\"score\" id=\"score_27528202\">94 points</span> by <a href=\"user?id=tasn\" class=\"hnuser\">tasn</a> <span class=\"age\"><a href=\"item?id=27528202\">10 hours ago</a></span> <span id=\"unv_27528202\"></span> | <a href=\"hide?id=27528202&amp;goto=news\">hide</a> | <a href=\"item?id=27528202\">37&nbsp;comments</a>              </td></tr>\n",
            "      <tr class=\"spacer\" style=\"height:5px\"></tr>\n",
            "                <tr class='athing' id='27516013'>\n",
            "      <td align=\"right\" valign=\"top\" class=\"title\"><span class=\"rank\">22.</span></td>      <td valign=\"top\" class=\"votelinks\"><center><a id='up_27516013' href='vote?id=27516013&amp;how=up&amp;goto=news'><div class='votearrow' title='upvote'></div></a></center></td><td class=\"title\"><a href=\"https://blog.aaronkharris.com/asymmetries-in-fundraising\" class=\"storylink\">Asymmetries in Fundraising</a><span class=\"sitebit comhead\"> (<a href=\"from?site=aaronkharris.com\"><span class=\"sitestr\">aaronkharris.com</span></a>)</span></td></tr><tr><td colspan=\"2\"></td><td class=\"subtext\">\n",
            "        <span class=\"score\" id=\"score_27516013\">36 points</span> by <a href=\"user?id=akharris\" class=\"hnuser\">akharris</a> <span class=\"age\"><a href=\"item?id=27516013\">5 hours ago</a></span> <span id=\"unv_27516013\"></span> | <a href=\"hide?id=27516013&amp;goto=news\">hide</a> | <a href=\"item?id=27516013\">6&nbsp;comments</a>              </td></tr>\n",
            "      <tr class=\"spacer\" style=\"height:5px\"></tr>\n",
            "                <tr class='athing' id='27506171'>\n",
            "      <td align=\"right\" valign=\"top\" class=\"title\"><span class=\"rank\">23.</span></td>      <td valign=\"top\" class=\"votelinks\"><center><a id='up_27506171' href='vote?id=27506171&amp;how=up&amp;goto=news'><div class='votearrow' title='upvote'></div></a></center></td><td class=\"title\"><a href=\"https://lareviewofbooks.org/article/when-pop-history-bombs-a-response-to-malcolm-gladwells-love-letter-to-american-air-power/\" class=\"storylink\">When pop history bombs: a response to Malcolm Gladwell</a><span class=\"sitebit comhead\"> (<a href=\"from?site=lareviewofbooks.org\"><span class=\"sitestr\">lareviewofbooks.org</span></a>)</span></td></tr><tr><td colspan=\"2\"></td><td class=\"subtext\">\n",
            "        <span class=\"score\" id=\"score_27506171\">189 points</span> by <a href=\"user?id=diodorus\" class=\"hnuser\">diodorus</a> <span class=\"age\"><a href=\"item?id=27506171\">11 hours ago</a></span> <span id=\"unv_27506171\"></span> | <a href=\"hide?id=27506171&amp;goto=news\">hide</a> | <a href=\"item?id=27506171\">159&nbsp;comments</a>              </td></tr>\n",
            "      <tr class=\"spacer\" style=\"height:5px\"></tr>\n",
            "                <tr class='athing' id='27530074'>\n",
            "      <td align=\"right\" valign=\"top\" class=\"title\"><span class=\"rank\">24.</span></td>      <td valign=\"top\" class=\"votelinks\"><center><a id='up_27530074' href='vote?id=27530074&amp;how=up&amp;goto=news'><div class='votearrow' title='upvote'></div></a></center></td><td class=\"title\"><a href=\"https://mergeboard.com/blog/2-qemu-microvm-docker/\" class=\"storylink\">Execute Docker Containers as QEMU MicroVMs</a><span class=\"sitebit comhead\"> (<a href=\"from?site=mergeboard.com\"><span class=\"sitestr\">mergeboard.com</span></a>)</span></td></tr><tr><td colspan=\"2\"></td><td class=\"subtext\">\n",
            "        <span class=\"score\" id=\"score_27530074\">138 points</span> by <a href=\"user?id=DarkPlayer\" class=\"hnuser\">DarkPlayer</a> <span class=\"age\"><a href=\"item?id=27530074\">9 hours ago</a></span> <span id=\"unv_27530074\"></span> | <a href=\"hide?id=27530074&amp;goto=news\">hide</a> | <a href=\"item?id=27530074\">56&nbsp;comments</a>              </td></tr>\n",
            "      <tr class=\"spacer\" style=\"height:5px\"></tr>\n",
            "                <tr class='athing' id='27527028'>\n",
            "      <td align=\"right\" valign=\"top\" class=\"title\"><span class=\"rank\">25.</span></td>      <td valign=\"top\" class=\"votelinks\"><center><a id='up_27527028' href='vote?id=27527028&amp;how=up&amp;goto=news'><div class='votearrow' title='upvote'></div></a></center></td><td class=\"title\"><a href=\"https://github.com/kermitt2/grobid\" class=\"storylink\">Grobid: Machine learning for extracting information from scholarly documents</a><span class=\"sitebit comhead\"> (<a href=\"from?site=github.com/kermitt2\"><span class=\"sitestr\">github.com/kermitt2</span></a>)</span></td></tr><tr><td colspan=\"2\"></td><td class=\"subtext\">\n",
            "        <span class=\"score\" id=\"score_27527028\">47 points</span> by <a href=\"user?id=polm23\" class=\"hnuser\">polm23</a> <span class=\"age\"><a href=\"item?id=27527028\">6 hours ago</a></span> <span id=\"unv_27527028\"></span> | <a href=\"hide?id=27527028&amp;goto=news\">hide</a> | <a href=\"item?id=27527028\">6&nbsp;comments</a>              </td></tr>\n",
            "      <tr class=\"spacer\" style=\"height:5px\"></tr>\n",
            "                <tr class='athing' id='27534572'>\n",
            "      <td align=\"right\" valign=\"top\" class=\"title\"><span class=\"rank\">26.</span></td>      <td valign=\"top\" class=\"votelinks\"><center><a id='up_27534572' href='vote?id=27534572&amp;how=up&amp;goto=news'><div class='votearrow' title='upvote'></div></a></center></td><td class=\"title\"><a href=\"https://github.com/lastmjs/wasm-metal\" class=\"storylink\">A bare metal physical implementation of WASM. That's right, a WebAssembly CPU</a><span class=\"sitebit comhead\"> (<a href=\"from?site=github.com/lastmjs\"><span class=\"sitestr\">github.com/lastmjs</span></a>)</span></td></tr><tr><td colspan=\"2\"></td><td class=\"subtext\">\n",
            "        <span class=\"score\" id=\"score_27534572\">11 points</span> by <a href=\"user?id=Kinrany\" class=\"hnuser\">Kinrany</a> <span class=\"age\"><a href=\"item?id=27534572\">2 hours ago</a></span> <span id=\"unv_27534572\"></span> | <a href=\"hide?id=27534572&amp;goto=news\">hide</a> | <a href=\"item?id=27534572\">1&nbsp;comment</a>              </td></tr>\n",
            "      <tr class=\"spacer\" style=\"height:5px\"></tr>\n",
            "                <tr class='athing' id='27533347'>\n",
            "      <td align=\"right\" valign=\"top\" class=\"title\"><span class=\"rank\">27.</span></td>      <td valign=\"top\" class=\"votelinks\"><center><a id='up_27533347' href='vote?id=27533347&amp;how=up&amp;goto=news'><div class='votearrow' title='upvote'></div></a></center></td><td class=\"title\"><a href=\"https://github.com/turbot/steampipe-mod-aws-compliance\" class=\"storylink\">Open source HIPAA compliance benchmark for AWS</a><span class=\"sitebit comhead\"> (<a href=\"from?site=github.com/turbot\"><span class=\"sitestr\">github.com/turbot</span></a>)</span></td></tr><tr><td colspan=\"2\"></td><td class=\"subtext\">\n",
            "        <span class=\"score\" id=\"score_27533347\">30 points</span> by <a href=\"user?id=dboeke\" class=\"hnuser\">dboeke</a> <span class=\"age\"><a href=\"item?id=27533347\">4 hours ago</a></span> <span id=\"unv_27533347\"></span> | <a href=\"hide?id=27533347&amp;goto=news\">hide</a> | <a href=\"item?id=27533347\">3&nbsp;comments</a>              </td></tr>\n",
            "      <tr class=\"spacer\" style=\"height:5px\"></tr>\n",
            "                <tr class='athing' id='27533620'>\n",
            "      <td align=\"right\" valign=\"top\" class=\"title\"><span class=\"rank\">28.</span></td>      <td valign=\"top\" class=\"votelinks\"><center><a id='up_27533620' href='vote?id=27533620&amp;how=up&amp;goto=news'><div class='votearrow' title='upvote'></div></a></center></td><td class=\"title\"><a href=\"https://www.starqueue.org/\" class=\"storylink\">Show HN: StarQueue – a free hosted HTTP message queue with a Postgres back end</a><span class=\"sitebit comhead\"> (<a href=\"from?site=starqueue.org\"><span class=\"sitestr\">starqueue.org</span></a>)</span></td></tr><tr><td colspan=\"2\"></td><td class=\"subtext\">\n",
            "        <span class=\"score\" id=\"score_27533620\">14 points</span> by <a href=\"user?id=andrewstuart\" class=\"hnuser\">andrewstuart</a> <span class=\"age\"><a href=\"item?id=27533620\">2 hours ago</a></span> <span id=\"unv_27533620\"></span> | <a href=\"hide?id=27533620&amp;goto=news\">hide</a> | <a href=\"item?id=27533620\">8&nbsp;comments</a>              </td></tr>\n",
            "      <tr class=\"spacer\" style=\"height:5px\"></tr>\n",
            "                <tr class='athing' id='27527391'>\n",
            "      <td align=\"right\" valign=\"top\" class=\"title\"><span class=\"rank\">29.</span></td>      <td valign=\"top\" class=\"votelinks\"><center><a id='up_27527391' href='vote?id=27527391&amp;how=up&amp;goto=news'><div class='votearrow' title='upvote'></div></a></center></td><td class=\"title\"><a href=\"https://www.wired.com/story/duckduckgo-quest-prove-online-privacy-possible/\" class=\"storylink\">DuckDuckGo’s quest to prove online privacy is possible</a><span class=\"sitebit comhead\"> (<a href=\"from?site=wired.com\"><span class=\"sitestr\">wired.com</span></a>)</span></td></tr><tr><td colspan=\"2\"></td><td class=\"subtext\">\n",
            "        <span class=\"score\" id=\"score_27527391\">189 points</span> by <a href=\"user?id=giuliomagnifico\" class=\"hnuser\">giuliomagnifico</a> <span class=\"age\"><a href=\"item?id=27527391\">13 hours ago</a></span> <span id=\"unv_27527391\"></span> | <a href=\"hide?id=27527391&amp;goto=news\">hide</a> | <a href=\"item?id=27527391\">114&nbsp;comments</a>              </td></tr>\n",
            "      <tr class=\"spacer\" style=\"height:5px\"></tr>\n",
            "                <tr class='athing' id='27533299'>\n",
            "      <td align=\"right\" valign=\"top\" class=\"title\"><span class=\"rank\">30.</span></td>      <td valign=\"top\" class=\"votelinks\"><center><a id='up_27533299' href='vote?id=27533299&amp;how=up&amp;goto=news'><div class='votearrow' title='upvote'></div></a></center></td><td class=\"title\"><a href=\"https://www.narrator.ai/blog/how-to-track-users-for-analytics-in-a-privacy-first-cookie-less-future/\" class=\"storylink\">How to track users for analytics in a privacy-first, cookie-less future</a><span class=\"sitebit comhead\"> (<a href=\"from?site=narrator.ai\"><span class=\"sitestr\">narrator.ai</span></a>)</span></td></tr><tr><td colspan=\"2\"></td><td class=\"subtext\">\n",
            "        <span class=\"score\" id=\"score_27533299\">46 points</span> by <a href=\"user?id=mattjstar\" class=\"hnuser\">mattjstar</a> <span class=\"age\"><a href=\"item?id=27533299\">4 hours ago</a></span> <span id=\"unv_27533299\"></span> | <a href=\"hide?id=27533299&amp;goto=news\">hide</a> | <a href=\"item?id=27533299\">36&nbsp;comments</a>              </td></tr>\n",
            "      <tr class=\"spacer\" style=\"height:5px\"></tr>\n",
            "            <tr class=\"morespace\" style=\"height:10px\"></tr><tr><td colspan=\"2\"></td><td class=\"title\"><a href=\"news?p=2\" class=\"morelink\" rel=\"next\">More</a></td></tr>\n",
            "  </table>\n",
            "</td></tr>\n",
            "<tr><td><img src=\"s.gif\" height=\"10\" width=\"0\"><table width=\"100%\" cellspacing=\"0\" cellpadding=\"1\"><tr><td bgcolor=\"#ff6600\"></td></tr></table><br><center><span class=\"yclinks\"><a href=\"newsguidelines.html\">Guidelines</a>\n",
            "        | <a href=\"newsfaq.html\">FAQ</a>\n",
            "        | <a href=\"lists\">Lists</a>\n",
            "        | <a href=\"https://github.com/HackerNews/API\">API</a>\n",
            "        | <a href=\"security.html\">Security</a>\n",
            "        | <a href=\"http://www.ycombinator.com/legal/\">Legal</a>\n",
            "        | <a href=\"http://www.ycombinator.com/apply/\">Apply to YC</a>\n",
            "        | <a href=\"mailto:hn@ycombinator.com\">Contact</a></span><br><br><form method=\"get\" action=\"//hn.algolia.com/\">Search:\n",
            "          <input type=\"text\" name=\"q\" value=\"\" size=\"17\" autocorrect=\"off\" spellcheck=\"false\" autocapitalize=\"off\" autocomplete=\"false\"></form>\n",
            "            </center></td></tr>\n",
            "      </table></center></body><script type='text/javascript' src='hn.js?JDaAcD2Dj4yhPbP6Aq6K'></script></html>\n",
            "\n"
          ],
          "name": "stdout"
        }
      ]
    },
    {
      "cell_type": "code",
      "metadata": {
        "colab": {
          "base_uri": "https://localhost:8080/"
        },
        "id": "P2x3CPPgoWwz",
        "outputId": "9b0d666f-b08d-4936-f87c-7b8c9eb1a272"
      },
      "source": [
        "import re\n",
        "pattern = re.compile(r'<.*?>')\n",
        "print(pattern.sub('', r.text))"
      ],
      "execution_count": 2,
      "outputs": [
        {
          "output_type": "stream",
          "text": [
            "\n",
            "        \n",
            "          \n",
            "        Hacker News\n",
            "        \n",
            "                  Hacker News\n",
            "              new | past | comments | ask | show | jobs | submit            \n",
            "                              login\n",
            "                          \n",
            "              \n",
            "\n",
            "              \n",
            "      1.      The most copied StackOverflow snippet of all time is flawed (2019) (programming.guide)\n",
            "        282 points by vinnyglennon 4 hours ago  | hide | 133&nbsp;comments              \n",
            "      \n",
            "                \n",
            "      2.      Wayfinder – a relaxing 'art game' in the browser (nfb.ca)\n",
            "        365 points by vnglst 6 hours ago  | hide | 67&nbsp;comments              \n",
            "      \n",
            "                \n",
            "      3.      Bear plus snowflake equals polar bear (andysalerno.com)\n",
            "        174 points by soopurman 5 hours ago  | hide | 39&nbsp;comments              \n",
            "      \n",
            "                \n",
            "      4.      Cryptanalysis of GPRS Encryption Algorithms GEA-1 suggest intentional weakness (iacr.org)\n",
            "        384 points by anonymfus 10 hours ago  | hide | 81&nbsp;comments              \n",
            "      \n",
            "                \n",
            "      5.      4-day workweek boosted workers' productivity by 40%, Microsoft Japan says (npr.org)\n",
            "        212 points by evo_9 4 hours ago  | hide | 75&nbsp;comments              \n",
            "      \n",
            "                \n",
            "      6.      Stripe Terminal (stripe.com)\n",
            "        56 points by dominicwhyte 1 hour ago  | hide | 20&nbsp;comments              \n",
            "      \n",
            "                \n",
            "      7.      Apple's iCloud+ “VPN” (metzdowd.com)\n",
            "        813 points by n1000 13 hours ago  | hide | 344&nbsp;comments              \n",
            "      \n",
            "                \n",
            "      8.      PyWhat: Identify Anything (github.com/bee-san)\n",
            "        207 points by trueduke 8 hours ago  | hide | 28&nbsp;comments              \n",
            "      \n",
            "                \n",
            "      9.      A Beginner’s Guide to Miles Davis (samenright.com)\n",
            "        89 points by tintinnabula 5 hours ago  | hide | 40&nbsp;comments              \n",
            "      \n",
            "                \n",
            "      10.      Kids need freedom, too (persuasion.community)\n",
            "        252 points by jseliger 9 hours ago  | hide | 247&nbsp;comments              \n",
            "      \n",
            "                \n",
            "      11.      How to Boost Self Esteem and Stop Procrastinating (neuralshifter.com)\n",
            "        47 points by CommitLock 3 hours ago  | hide | 22&nbsp;comments              \n",
            "      \n",
            "                \n",
            "      12.      Zero-downtime schema migrations in Postgres using views (fabianlindfors.se)\n",
            "        105 points by fabianlindfors 7 hours ago  | hide | 43&nbsp;comments              \n",
            "      \n",
            "                \n",
            "      13.      Note Taking in 2021 (dornea.nu)\n",
            "        9 points by cyneox 1 hour ago  | hide | discuss              \n",
            "      \n",
            "                \n",
            "      14.      Representing SHA-256 Hashes as Avatars (francoisbest.com)\n",
            "        37 points by flurly 2 hours ago  | hide | 11&nbsp;comments              \n",
            "      \n",
            "                \n",
            "      15.      Cortex (YC W20) Is Hiring Founding Engineers (workatastartup.com)\n",
            "        4 hours ago | hide      \n",
            "      \n",
            "                \n",
            "      16.      My EC2 Wishlist (daemonology.net)\n",
            "        65 points by cperciva 5 hours ago  | hide | 25&nbsp;comments              \n",
            "      \n",
            "                \n",
            "      17.      Differential Dataflow for Mere Mortals (github.com/jamii)\n",
            "        21 points by luu 2 hours ago  | hide | 1&nbsp;comment              \n",
            "      \n",
            "                \n",
            "      18.      Manufacturing next-generation electronics like they are T-Shirts (ygoliya.medium.com)\n",
            "        31 points by SG16 4 hours ago  | hide | 7&nbsp;comments              \n",
            "      \n",
            "                \n",
            "      19.      How does one get hired by a top cybercrime gang? (krebsonsecurity.com)\n",
            "        187 points by wyldfire 10 hours ago  | hide | 108&nbsp;comments              \n",
            "      \n",
            "                \n",
            "      20.      Saving books by keeping them expensive (2011) (themillions.com)\n",
            "        19 points by TheTrotters 3 hours ago  | hide | 9&nbsp;comments              \n",
            "      \n",
            "                \n",
            "      21.      Launch HN: Svix (YC W21) – Webhooks as a Service\n",
            "        94 points by tasn 10 hours ago  | hide | 37&nbsp;comments              \n",
            "      \n",
            "                \n",
            "      22.      Asymmetries in Fundraising (aaronkharris.com)\n",
            "        36 points by akharris 5 hours ago  | hide | 6&nbsp;comments              \n",
            "      \n",
            "                \n",
            "      23.      When pop history bombs: a response to Malcolm Gladwell (lareviewofbooks.org)\n",
            "        189 points by diodorus 11 hours ago  | hide | 159&nbsp;comments              \n",
            "      \n",
            "                \n",
            "      24.      Execute Docker Containers as QEMU MicroVMs (mergeboard.com)\n",
            "        138 points by DarkPlayer 9 hours ago  | hide | 56&nbsp;comments              \n",
            "      \n",
            "                \n",
            "      25.      Grobid: Machine learning for extracting information from scholarly documents (github.com/kermitt2)\n",
            "        47 points by polm23 6 hours ago  | hide | 6&nbsp;comments              \n",
            "      \n",
            "                \n",
            "      26.      A bare metal physical implementation of WASM. That's right, a WebAssembly CPU (github.com/lastmjs)\n",
            "        11 points by Kinrany 2 hours ago  | hide | 1&nbsp;comment              \n",
            "      \n",
            "                \n",
            "      27.      Open source HIPAA compliance benchmark for AWS (github.com/turbot)\n",
            "        30 points by dboeke 4 hours ago  | hide | 3&nbsp;comments              \n",
            "      \n",
            "                \n",
            "      28.      Show HN: StarQueue – a free hosted HTTP message queue with a Postgres back end (starqueue.org)\n",
            "        14 points by andrewstuart 2 hours ago  | hide | 8&nbsp;comments              \n",
            "      \n",
            "                \n",
            "      29.      DuckDuckGo’s quest to prove online privacy is possible (wired.com)\n",
            "        189 points by giuliomagnifico 13 hours ago  | hide | 114&nbsp;comments              \n",
            "      \n",
            "                \n",
            "      30.      How to track users for analytics in a privacy-first, cookie-less future (narrator.ai)\n",
            "        46 points by mattjstar 4 hours ago  | hide | 36&nbsp;comments              \n",
            "      \n",
            "            More\n",
            "  \n",
            "\n",
            "Guidelines\n",
            "        | FAQ\n",
            "        | Lists\n",
            "        | API\n",
            "        | Security\n",
            "        | Legal\n",
            "        | Apply to YC\n",
            "        | ContactSearch:\n",
            "          \n",
            "            \n",
            "      \n",
            "\n"
          ],
          "name": "stdout"
        }
      ]
    },
    {
      "cell_type": "code",
      "metadata": {
        "colab": {
          "base_uri": "https://localhost:8080/"
        },
        "id": "61oEPaxeo1Iy",
        "outputId": "deb8ea88-d30d-41de-a575-5978729cbf8e"
      },
      "source": [
        "from bs4 import BeautifulSoup\n",
        "\n",
        "# Remove HTML tags \n",
        "soup = BeautifulSoup(r.text, \"html5lib\")\n",
        "print(soup.get_text())"
      ],
      "execution_count": 3,
      "outputs": [
        {
          "output_type": "stream",
          "text": [
            "\n",
            "        \n",
            "          \n",
            "        Hacker News\n",
            "        \n",
            "                  Hacker News\n",
            "              new | past | comments | ask | show | jobs | submit            \n",
            "                              login\n",
            "                          \n",
            "              \n",
            "\n",
            "              \n",
            "      1.      The most copied StackOverflow snippet of all time is flawed (2019) (programming.guide)\n",
            "        282 points by vinnyglennon 4 hours ago  | hide | 133 comments              \n",
            "      \n",
            "                \n",
            "      2.      Wayfinder – a relaxing 'art game' in the browser (nfb.ca)\n",
            "        365 points by vnglst 6 hours ago  | hide | 67 comments              \n",
            "      \n",
            "                \n",
            "      3.      Bear plus snowflake equals polar bear (andysalerno.com)\n",
            "        174 points by soopurman 5 hours ago  | hide | 39 comments              \n",
            "      \n",
            "                \n",
            "      4.      Cryptanalysis of GPRS Encryption Algorithms GEA-1 suggest intentional weakness (iacr.org)\n",
            "        384 points by anonymfus 10 hours ago  | hide | 81 comments              \n",
            "      \n",
            "                \n",
            "      5.      4-day workweek boosted workers' productivity by 40%, Microsoft Japan says (npr.org)\n",
            "        212 points by evo_9 4 hours ago  | hide | 75 comments              \n",
            "      \n",
            "                \n",
            "      6.      Stripe Terminal (stripe.com)\n",
            "        56 points by dominicwhyte 1 hour ago  | hide | 20 comments              \n",
            "      \n",
            "                \n",
            "      7.      Apple's iCloud+ “VPN” (metzdowd.com)\n",
            "        813 points by n1000 13 hours ago  | hide | 344 comments              \n",
            "      \n",
            "                \n",
            "      8.      PyWhat: Identify Anything (github.com/bee-san)\n",
            "        207 points by trueduke 8 hours ago  | hide | 28 comments              \n",
            "      \n",
            "                \n",
            "      9.      A Beginner’s Guide to Miles Davis (samenright.com)\n",
            "        89 points by tintinnabula 5 hours ago  | hide | 40 comments              \n",
            "      \n",
            "                \n",
            "      10.      Kids need freedom, too (persuasion.community)\n",
            "        252 points by jseliger 9 hours ago  | hide | 247 comments              \n",
            "      \n",
            "                \n",
            "      11.      How to Boost Self Esteem and Stop Procrastinating (neuralshifter.com)\n",
            "        47 points by CommitLock 3 hours ago  | hide | 22 comments              \n",
            "      \n",
            "                \n",
            "      12.      Zero-downtime schema migrations in Postgres using views (fabianlindfors.se)\n",
            "        105 points by fabianlindfors 7 hours ago  | hide | 43 comments              \n",
            "      \n",
            "                \n",
            "      13.      Note Taking in 2021 (dornea.nu)\n",
            "        9 points by cyneox 1 hour ago  | hide | discuss              \n",
            "      \n",
            "                \n",
            "      14.      Representing SHA-256 Hashes as Avatars (francoisbest.com)\n",
            "        37 points by flurly 2 hours ago  | hide | 11 comments              \n",
            "      \n",
            "                \n",
            "      15.      Cortex (YC W20) Is Hiring Founding Engineers (workatastartup.com)\n",
            "        4 hours ago | hide      \n",
            "      \n",
            "                \n",
            "      16.      My EC2 Wishlist (daemonology.net)\n",
            "        65 points by cperciva 5 hours ago  | hide | 25 comments              \n",
            "      \n",
            "                \n",
            "      17.      Differential Dataflow for Mere Mortals (github.com/jamii)\n",
            "        21 points by luu 2 hours ago  | hide | 1 comment              \n",
            "      \n",
            "                \n",
            "      18.      Manufacturing next-generation electronics like they are T-Shirts (ygoliya.medium.com)\n",
            "        31 points by SG16 4 hours ago  | hide | 7 comments              \n",
            "      \n",
            "                \n",
            "      19.      How does one get hired by a top cybercrime gang? (krebsonsecurity.com)\n",
            "        187 points by wyldfire 10 hours ago  | hide | 108 comments              \n",
            "      \n",
            "                \n",
            "      20.      Saving books by keeping them expensive (2011) (themillions.com)\n",
            "        19 points by TheTrotters 3 hours ago  | hide | 9 comments              \n",
            "      \n",
            "                \n",
            "      21.      Launch HN: Svix (YC W21) – Webhooks as a Service\n",
            "        94 points by tasn 10 hours ago  | hide | 37 comments              \n",
            "      \n",
            "                \n",
            "      22.      Asymmetries in Fundraising (aaronkharris.com)\n",
            "        36 points by akharris 5 hours ago  | hide | 6 comments              \n",
            "      \n",
            "                \n",
            "      23.      When pop history bombs: a response to Malcolm Gladwell (lareviewofbooks.org)\n",
            "        189 points by diodorus 11 hours ago  | hide | 159 comments              \n",
            "      \n",
            "                \n",
            "      24.      Execute Docker Containers as QEMU MicroVMs (mergeboard.com)\n",
            "        138 points by DarkPlayer 9 hours ago  | hide | 56 comments              \n",
            "      \n",
            "                \n",
            "      25.      Grobid: Machine learning for extracting information from scholarly documents (github.com/kermitt2)\n",
            "        47 points by polm23 6 hours ago  | hide | 6 comments              \n",
            "      \n",
            "                \n",
            "      26.      A bare metal physical implementation of WASM. That's right, a WebAssembly CPU (github.com/lastmjs)\n",
            "        11 points by Kinrany 2 hours ago  | hide | 1 comment              \n",
            "      \n",
            "                \n",
            "      27.      Open source HIPAA compliance benchmark for AWS (github.com/turbot)\n",
            "        30 points by dboeke 4 hours ago  | hide | 3 comments              \n",
            "      \n",
            "                \n",
            "      28.      Show HN: StarQueue – a free hosted HTTP message queue with a Postgres back end (starqueue.org)\n",
            "        14 points by andrewstuart 2 hours ago  | hide | 8 comments              \n",
            "      \n",
            "                \n",
            "      29.      DuckDuckGo’s quest to prove online privacy is possible (wired.com)\n",
            "        189 points by giuliomagnifico 13 hours ago  | hide | 114 comments              \n",
            "      \n",
            "                \n",
            "      30.      How to track users for analytics in a privacy-first, cookie-less future (narrator.ai)\n",
            "        46 points by mattjstar 4 hours ago  | hide | 36 comments              \n",
            "      \n",
            "            More\n",
            "  \n",
            "\n",
            "Guidelines\n",
            "        | FAQ\n",
            "        | Lists\n",
            "        | API\n",
            "        | Security\n",
            "        | Legal\n",
            "        | Apply to YC\n",
            "        | ContactSearch:\n",
            "          \n",
            "            \n",
            "      \n",
            "\n"
          ],
          "name": "stdout"
        }
      ]
    },
    {
      "cell_type": "code",
      "metadata": {
        "colab": {
          "base_uri": "https://localhost:8080/"
        },
        "id": "7pcb1s6fpxby",
        "outputId": "2e96f3d2-ae08-46a6-8531-74cff04de1a1"
      },
      "source": [
        "# Find all articles\n",
        "summaries = soup.find_all(\"tr\", class_=\"athing\")\n",
        "summaries[0]\n",
        "# Extract title\n",
        "summaries[0].find(\"a\", class_=\"storylink\").get_text().strip()\n",
        "# Find all articles extract titles\n",
        "articles = []\n",
        "summaries = soup.find_all(\"tr\", class_=\"athing\")\n",
        "for summary in summaries:\n",
        "    title = summary.find(\"a\", class_=\"storylink\").get_text().strip()\n",
        "    articles.append((title))\n",
        "\n",
        "print(len(articles), \"Article summaries found. Sample:\")\n",
        "print(articles[0])"
      ],
      "execution_count": 7,
      "outputs": [
        {
          "output_type": "stream",
          "text": [
            "30 Article summaries found. Sample:\n",
            "The most copied StackOverflow snippet of all time is flawed (2019)\n"
          ],
          "name": "stdout"
        }
      ]
    },
    {
      "cell_type": "code",
      "metadata": {
        "colab": {
          "base_uri": "https://localhost:8080/"
        },
        "id": "sy2N8dnqp_0U",
        "outputId": "67b2cd14-6d7b-4e2c-ffe3-c54fa1a99f25"
      },
      "source": [
        "# Normalization\n",
        "# Case normalization\n",
        "text = \"The first time you see The Second Renaissance it may look boring. Look at it at least twice and definitely watch part 2. It will change your view of the matrix. Are the human people the ones who started the war ? Is AI a bad thing ?\"\n",
        "print(text)\n",
        "\n",
        "# convert lower case\n",
        "text = text.lower()\n",
        "print(text)\n",
        "\n",
        "# Punctuation removal\n",
        "import re\n",
        "text = re.sub(r\"[^a-zA-Z0-9]\",\" \", text)\n",
        "print(text)\n",
        "\n",
        "# Tokenization\n",
        "words = text.split()\n",
        "print(words)"
      ],
      "execution_count": 10,
      "outputs": [
        {
          "output_type": "stream",
          "text": [
            "The first time you see The Second Renaissance it may look boring. Look at it at least twice and definitely watch part 2. It will change your view of the matrix. Are the human people the ones who started the war ? Is AI a bad thing ?\n",
            "the first time you see the second renaissance it may look boring. look at it at least twice and definitely watch part 2. it will change your view of the matrix. are the human people the ones who started the war ? is ai a bad thing ?\n",
            "the first time you see the second renaissance it may look boring  look at it at least twice and definitely watch part 2  it will change your view of the matrix  are the human people the ones who started the war   is ai a bad thing  \n",
            "['the', 'first', 'time', 'you', 'see', 'the', 'second', 'renaissance', 'it', 'may', 'look', 'boring', 'look', 'at', 'it', 'at', 'least', 'twice', 'and', 'definitely', 'watch', 'part', '2', 'it', 'will', 'change', 'your', 'view', 'of', 'the', 'matrix', 'are', 'the', 'human', 'people', 'the', 'ones', 'who', 'started', 'the', 'war', 'is', 'ai', 'a', 'bad', 'thing']\n"
          ],
          "name": "stdout"
        }
      ]
    },
    {
      "cell_type": "markdown",
      "metadata": {
        "id": "DLTWCBx4riP8"
      },
      "source": [
        "# NLTK- Natural Language Toolkit"
      ]
    },
    {
      "cell_type": "code",
      "metadata": {
        "id": "ckNvN33OrSdz"
      },
      "source": [
        "import os\n",
        "import re\n",
        "import nltk\n",
        "nltk.data.path.append(os.path.join(os.getcwd(), \"nltk_data\")) "
      ],
      "execution_count": 13,
      "outputs": []
    },
    {
      "cell_type": "code",
      "metadata": {
        "colab": {
          "base_uri": "https://localhost:8080/"
        },
        "id": "PnzKoc5Rra8p",
        "outputId": "122a115c-dfba-4176-989e-44b51fee55d9"
      },
      "source": [
        "# Another sample text\n",
        "text = \"Dr. Smith graduated from the University of Washington. He later started an analytics firm called Lux, which catered to enterprise customers.\"\n",
        "print(text)\n",
        "\n",
        "# NLTK -tokenization\n",
        "from nltk.tokenize import word_tokenize\n",
        "# nltk.download('punkt')\n",
        "words = word_tokenize(text)\n",
        "print('>>>WORDS-TOKEN<<<',words)\n",
        "\n",
        "# Split text into sentense\n",
        "from nltk.tokenize import sent_tokenize\n",
        "sentences = sent_tokenize(text)\n",
        "print('>>>SENTENCES-TOKEN<<<',sentences)\n",
        "\n",
        "# list of stop words\n",
        "from nltk.corpus import stopwords\n",
        "# nltk.download('stopwords')\n",
        "print('>>>STOP-WORDS<<<', stopwords.words(\"english\"))"
      ],
      "execution_count": 17,
      "outputs": [
        {
          "output_type": "stream",
          "text": [
            "Dr. Smith graduated from the University of Washington. He later started an analytics firm called Lux, which catered to enterprise customers.\n",
            ">>>WORDS-TOKEN<<< ['Dr.', 'Smith', 'graduated', 'from', 'the', 'University', 'of', 'Washington', '.', 'He', 'later', 'started', 'an', 'analytics', 'firm', 'called', 'Lux', ',', 'which', 'catered', 'to', 'enterprise', 'customers', '.']\n",
            ">>>SENTENCES-TOKEN<<< ['Dr. Smith graduated from the University of Washington.', 'He later started an analytics firm called Lux, which catered to enterprise customers.']\n",
            ">>>STOP-WORDS<<< ['i', 'me', 'my', 'myself', 'we', 'our', 'ours', 'ourselves', 'you', \"you're\", \"you've\", \"you'll\", \"you'd\", 'your', 'yours', 'yourself', 'yourselves', 'he', 'him', 'his', 'himself', 'she', \"she's\", 'her', 'hers', 'herself', 'it', \"it's\", 'its', 'itself', 'they', 'them', 'their', 'theirs', 'themselves', 'what', 'which', 'who', 'whom', 'this', 'that', \"that'll\", 'these', 'those', 'am', 'is', 'are', 'was', 'were', 'be', 'been', 'being', 'have', 'has', 'had', 'having', 'do', 'does', 'did', 'doing', 'a', 'an', 'the', 'and', 'but', 'if', 'or', 'because', 'as', 'until', 'while', 'of', 'at', 'by', 'for', 'with', 'about', 'against', 'between', 'into', 'through', 'during', 'before', 'after', 'above', 'below', 'to', 'from', 'up', 'down', 'in', 'out', 'on', 'off', 'over', 'under', 'again', 'further', 'then', 'once', 'here', 'there', 'when', 'where', 'why', 'how', 'all', 'any', 'both', 'each', 'few', 'more', 'most', 'other', 'some', 'such', 'no', 'nor', 'not', 'only', 'own', 'same', 'so', 'than', 'too', 'very', 's', 't', 'can', 'will', 'just', 'don', \"don't\", 'should', \"should've\", 'now', 'd', 'll', 'm', 'o', 're', 've', 'y', 'ain', 'aren', \"aren't\", 'couldn', \"couldn't\", 'didn', \"didn't\", 'doesn', \"doesn't\", 'hadn', \"hadn't\", 'hasn', \"hasn't\", 'haven', \"haven't\", 'isn', \"isn't\", 'ma', 'mightn', \"mightn't\", 'mustn', \"mustn't\", 'needn', \"needn't\", 'shan', \"shan't\", 'shouldn', \"shouldn't\", 'wasn', \"wasn't\", 'weren', \"weren't\", 'won', \"won't\", 'wouldn', \"wouldn't\"]\n"
          ],
          "name": "stdout"
        }
      ]
    },
    {
      "cell_type": "code",
      "metadata": {
        "colab": {
          "base_uri": "https://localhost:8080/"
        },
        "id": "Kcnip4_6s4ku",
        "outputId": "18ee8f22-149e-44a2-8714-69ea92d97b40"
      },
      "source": [
        "# \n",
        "# Reset text\n",
        "text = \"The first time you see The Second Renaissance it may look boring. Look at it at least twice and definitely watch part 2. It will change your view of the matrix. Are the human people the ones who started the war ? Is AI a bad thing ?\"\n",
        "# Normalize it\n",
        "text = re.sub(r\"[^a-zA-Z0-9]\",\" \", text.lower())\n",
        "\n",
        "# tokenize it\n",
        "words = text.split()\n",
        "print('>>>TOKENIZE<<< ',words)\n",
        "\n",
        "# Remove stop words\n",
        "words = [w for w in words if w not in stopwords.words(\"english\")]\n",
        "print('>>>STOP-WORDS-REMOVED<<< ',words)"
      ],
      "execution_count": 26,
      "outputs": [
        {
          "output_type": "stream",
          "text": [
            ">>>TOKENIZE<<<  ['the', 'first', 'time', 'you', 'see', 'the', 'second', 'renaissance', 'it', 'may', 'look', 'boring', 'look', 'at', 'it', 'at', 'least', 'twice', 'and', 'definitely', 'watch', 'part', '2', 'it', 'will', 'change', 'your', 'view', 'of', 'the', 'matrix', 'are', 'the', 'human', 'people', 'the', 'ones', 'who', 'started', 'the', 'war', 'is', 'ai', 'a', 'bad', 'thing']\n",
            ">>>STOP-WORDS-REMOVED<<<  ['first', 'time', 'see', 'second', 'renaissance', 'may', 'look', 'boring', 'look', 'least', 'twice', 'definitely', 'watch', 'part', '2', 'change', 'view', 'matrix', 'human', 'people', 'ones', 'started', 'war', 'ai', 'bad', 'thing']\n"
          ],
          "name": "stdout"
        }
      ]
    },
    {
      "cell_type": "code",
      "metadata": {
        "colab": {
          "base_uri": "https://localhost:8080/"
        },
        "id": "6TtpKulWtstb",
        "outputId": "305b4e8a-199a-4e9d-ee93-1d6e6f10c11a"
      },
      "source": [
        "# Sentence parsing\n",
        "import nltk\n",
        "my_grammer = nltk.CFG.fromstring(\"\"\"\n",
        "S -> NP VP\n",
        "PP -> P NP\n",
        "NP -> Det N | Det N PP | 'I'\n",
        "VP -> V NP | VP PP\n",
        "Det -> 'an' | 'my'\n",
        "N -> 'elephant' | 'pajamas'\n",
        "V -> 'shot'\n",
        "P -> 'in'\n",
        "\"\"\")\n",
        "\n",
        "parser = nltk.ChartParser(my_grammer)\n",
        "\n",
        "# Parse sentence \n",
        "sentence = word_tokenize(\"I shot an elephant in my pajamas\")\n",
        "for tree in parser.parse(sentence):\n",
        "  print(tree)"
      ],
      "execution_count": 22,
      "outputs": [
        {
          "output_type": "stream",
          "text": [
            "(S\n",
            "  (NP I)\n",
            "  (VP\n",
            "    (VP (V shot) (NP (Det an) (N elephant)))\n",
            "    (PP (P in) (NP (Det my) (N pajamas)))))\n",
            "(S\n",
            "  (NP I)\n",
            "  (VP\n",
            "    (V shot)\n",
            "    (NP (Det an) (N elephant) (PP (P in) (NP (Det my) (N pajamas))))))\n"
          ],
          "name": "stdout"
        }
      ]
    },
    {
      "cell_type": "code",
      "metadata": {
        "colab": {
          "base_uri": "https://localhost:8080/"
        },
        "id": "2_5yF7HTusd5",
        "outputId": "ae8aee51-89d5-40b1-9172-5836c42e43ab"
      },
      "source": [
        "# Stemming & Lemmatization\n",
        "# Stemming\n",
        "from nltk.stem.porter import PorterStemmer\n",
        "# Reduce words to their stem\n",
        "stemmed = [PorterStemmer().stem(w) for w in words]\n",
        "print('>>>STEMMING<<< ', stemmed)"
      ],
      "execution_count": 23,
      "outputs": [
        {
          "output_type": "stream",
          "text": [
            ">>>STEMMING<<<  ['first', 'time', 'see', 'second', 'renaiss', 'may', 'look', 'bore', 'look', 'least', 'twice', 'definit', 'watch', 'part', '2', 'chang', 'view', 'matrix', 'human', 'peopl', 'one', 'start', 'war', 'ai', 'bad', 'thing']\n"
          ],
          "name": "stdout"
        }
      ]
    },
    {
      "cell_type": "code",
      "metadata": {
        "colab": {
          "base_uri": "https://localhost:8080/"
        },
        "id": "y5ycxrK1vZAv",
        "outputId": "ffced0b9-8490-4d38-8de6-dd95e5ca5a5d"
      },
      "source": [
        "# Lemmatization\n",
        "from nltk.stem.wordnet import WordNetLemmatizer\n",
        "# nltk.download('wordnet')\n",
        "\n",
        "# Reduce to their root form\n",
        "lemmed = [WordNetLemmatizer().lemmatize(w) for w in words]\n",
        "print('>>>LEMMATEING<<< ', stemmed)\n",
        "\n",
        "# Lemmatize verbs by specifying pos\n",
        "lemmed = [WordNetLemmatizer().lemmatize(w, pos='v') for w in lemmed]\n",
        "print('>>>LEMMATING_POS<<< ', lemmed)"
      ],
      "execution_count": 27,
      "outputs": [
        {
          "output_type": "stream",
          "text": [
            ">>>LEMMATEING<<<  ['first', 'time', 'see', 'second', 'renaiss', 'may', 'look', 'bore', 'look', 'least', 'twice', 'definit', 'watch', 'part', '2', 'chang', 'view', 'matrix', 'human', 'peopl', 'one', 'start', 'war', 'ai', 'bad', 'thing']\n",
            ">>>LEMMATING_POS<<<  ['first', 'time', 'see', 'second', 'renaissance', 'may', 'look', 'bore', 'look', 'least', 'twice', 'definitely', 'watch', 'part', '2', 'change', 'view', 'matrix', 'human', 'people', 'one', 'start', 'war', 'ai', 'bad', 'thing']\n"
          ],
          "name": "stdout"
        }
      ]
    },
    {
      "cell_type": "code",
      "metadata": {
        "id": "lyzG02XUwiNf"
      },
      "source": [
        ""
      ],
      "execution_count": null,
      "outputs": []
    }
  ]
}